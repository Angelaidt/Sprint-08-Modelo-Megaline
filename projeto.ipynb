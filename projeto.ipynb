{
 "cells": [
  {
   "cell_type": "markdown",
   "id": "74dff7ff",
   "metadata": {},
   "source": [
    "<div style=\"background-color:#003366; color:white ; padding: 15px; border-radius: 5px;\">\n",
    "\n",
    "Resumo do Projeto: Otimização de Planos de Telefonia Megaline \n",
    "\n",
    "\n",
    "Este projeto foca no desenvolvimento de um modelo de aprendizado de máquina para a operadora de telefonia Megaline. A empresa busca otimizar a alocação de seus clientes, incentivando a migração para dois novos planos: Smart e Ultra.\n",
    "\n",
    "O objetivo principal foi criar um modelo de classificação capaz de analisar o comportamento de uso de clientes antigos e prever qual dos novos planos seria mais adequado para eles. Para isso, utilizei um conjunto de dados que continha informações sobre o uso de serviços, como chamadas, mensagens e tráfego de internet.\n",
    "\n",
    "O desafio central foi atingir uma acurácia superior a 0.75, garantindo que o modelo seja confiável o suficiente para recomendar os planos de forma precisa, otimizando a satisfação do cliente e as estratégias de negócio da Megaline.\n",
    "</div>"
   ]
  },
  {
   "cell_type": "markdown",
   "id": "f1e37cf8",
   "metadata": {},
   "source": [
    "Darei seguimento diretamente para a análise e criação do modelo, estou levando em consideração que  o pré processamento de dados já foi realizado."
   ]
  },
  {
   "cell_type": "code",
   "execution_count": 82,
   "id": "bc7396e1",
   "metadata": {},
   "outputs": [],
   "source": [
    "import pandas as pd\n",
    "from sklearn.model_selection import train_test_split\n",
    "from sklearn.tree import DecisionTreeClassifier\n",
    "from sklearn.ensemble import RandomForestClassifier\n",
    "from sklearn.linear_model import LogisticRegression\n",
    "from sklearn.metrics import accuracy_score"
   ]
  },
  {
   "cell_type": "code",
   "execution_count": 83,
   "id": "82df55d8",
   "metadata": {},
   "outputs": [
    {
     "data": {
      "text/html": [
       "<div>\n",
       "<style scoped>\n",
       "    .dataframe tbody tr th:only-of-type {\n",
       "        vertical-align: middle;\n",
       "    }\n",
       "\n",
       "    .dataframe tbody tr th {\n",
       "        vertical-align: top;\n",
       "    }\n",
       "\n",
       "    .dataframe thead th {\n",
       "        text-align: right;\n",
       "    }\n",
       "</style>\n",
       "<table border=\"1\" class=\"dataframe\">\n",
       "  <thead>\n",
       "    <tr style=\"text-align: right;\">\n",
       "      <th></th>\n",
       "      <th>calls</th>\n",
       "      <th>minutes</th>\n",
       "      <th>messages</th>\n",
       "      <th>mb_used</th>\n",
       "      <th>is_ultra</th>\n",
       "    </tr>\n",
       "  </thead>\n",
       "  <tbody>\n",
       "    <tr>\n",
       "      <th>0</th>\n",
       "      <td>40.0</td>\n",
       "      <td>311.90</td>\n",
       "      <td>83.0</td>\n",
       "      <td>19915.42</td>\n",
       "      <td>0</td>\n",
       "    </tr>\n",
       "    <tr>\n",
       "      <th>1</th>\n",
       "      <td>85.0</td>\n",
       "      <td>516.75</td>\n",
       "      <td>56.0</td>\n",
       "      <td>22696.96</td>\n",
       "      <td>0</td>\n",
       "    </tr>\n",
       "    <tr>\n",
       "      <th>2</th>\n",
       "      <td>77.0</td>\n",
       "      <td>467.66</td>\n",
       "      <td>86.0</td>\n",
       "      <td>21060.45</td>\n",
       "      <td>0</td>\n",
       "    </tr>\n",
       "    <tr>\n",
       "      <th>3</th>\n",
       "      <td>106.0</td>\n",
       "      <td>745.53</td>\n",
       "      <td>81.0</td>\n",
       "      <td>8437.39</td>\n",
       "      <td>1</td>\n",
       "    </tr>\n",
       "    <tr>\n",
       "      <th>4</th>\n",
       "      <td>66.0</td>\n",
       "      <td>418.74</td>\n",
       "      <td>1.0</td>\n",
       "      <td>14502.75</td>\n",
       "      <td>0</td>\n",
       "    </tr>\n",
       "    <tr>\n",
       "      <th>...</th>\n",
       "      <td>...</td>\n",
       "      <td>...</td>\n",
       "      <td>...</td>\n",
       "      <td>...</td>\n",
       "      <td>...</td>\n",
       "    </tr>\n",
       "    <tr>\n",
       "      <th>3209</th>\n",
       "      <td>122.0</td>\n",
       "      <td>910.98</td>\n",
       "      <td>20.0</td>\n",
       "      <td>35124.90</td>\n",
       "      <td>1</td>\n",
       "    </tr>\n",
       "    <tr>\n",
       "      <th>3210</th>\n",
       "      <td>25.0</td>\n",
       "      <td>190.36</td>\n",
       "      <td>0.0</td>\n",
       "      <td>3275.61</td>\n",
       "      <td>0</td>\n",
       "    </tr>\n",
       "    <tr>\n",
       "      <th>3211</th>\n",
       "      <td>97.0</td>\n",
       "      <td>634.44</td>\n",
       "      <td>70.0</td>\n",
       "      <td>13974.06</td>\n",
       "      <td>0</td>\n",
       "    </tr>\n",
       "    <tr>\n",
       "      <th>3212</th>\n",
       "      <td>64.0</td>\n",
       "      <td>462.32</td>\n",
       "      <td>90.0</td>\n",
       "      <td>31239.78</td>\n",
       "      <td>0</td>\n",
       "    </tr>\n",
       "    <tr>\n",
       "      <th>3213</th>\n",
       "      <td>80.0</td>\n",
       "      <td>566.09</td>\n",
       "      <td>6.0</td>\n",
       "      <td>29480.52</td>\n",
       "      <td>1</td>\n",
       "    </tr>\n",
       "  </tbody>\n",
       "</table>\n",
       "<p>3214 rows × 5 columns</p>\n",
       "</div>"
      ],
      "text/plain": [
       "      calls  minutes  messages   mb_used  is_ultra\n",
       "0      40.0   311.90      83.0  19915.42         0\n",
       "1      85.0   516.75      56.0  22696.96         0\n",
       "2      77.0   467.66      86.0  21060.45         0\n",
       "3     106.0   745.53      81.0   8437.39         1\n",
       "4      66.0   418.74       1.0  14502.75         0\n",
       "...     ...      ...       ...       ...       ...\n",
       "3209  122.0   910.98      20.0  35124.90         1\n",
       "3210   25.0   190.36       0.0   3275.61         0\n",
       "3211   97.0   634.44      70.0  13974.06         0\n",
       "3212   64.0   462.32      90.0  31239.78         0\n",
       "3213   80.0   566.09       6.0  29480.52         1\n",
       "\n",
       "[3214 rows x 5 columns]"
      ]
     },
     "metadata": {},
     "output_type": "display_data"
    }
   ],
   "source": [
    "df = pd.read_csv(\"/home/angelaferrari/Sprint08/projeto_final/users_behavior (2).csv\")\n",
    "display(df)"
   ]
  },
  {
   "cell_type": "markdown",
   "id": "51be909b",
   "metadata": {},
   "source": [
    "A coluna \"is_ultra\" indica que: a opção \"1\" pertence ao plano Ultra. Sendo a opção \"0\" o plano Smart."
   ]
  },
  {
   "cell_type": "markdown",
   "id": "0ef3713a",
   "metadata": {},
   "source": [
    "<div style=\"background-color:#003366; color:#FFA500; padding: 15px; border-radius: 5px;\">\n",
    "            Primeira etapa: Dividir os dados em Treino, Validação e Teste (60%, 20% e 20% respectivamente)\n",
    "</div>"
   ]
  },
  {
   "cell_type": "code",
   "execution_count": 84,
   "id": "3653b7b5",
   "metadata": {},
   "outputs": [],
   "source": [
    "# Primeiro, divisão em treino+validação e teste\n",
    "df_temp, df_test = train_test_split(df, test_size=0.20, random_state=12345)  # 20% para teste\n",
    "\n",
    "# Segundo, divisão df_temp em treino e validação\n",
    "df_train, df_valid = train_test_split(df_temp, test_size=0.25, random_state=12345)  # 25% de 80% = 20% para validação\n",
    "\n",
    "# Assim, teremos aproximadamente:\n",
    "# 60% treino, 20% validação, 20% teste"
   ]
  },
  {
   "cell_type": "code",
   "execution_count": 85,
   "id": "a5cad403",
   "metadata": {},
   "outputs": [],
   "source": [
    "#separação das features e do target\n",
    "features_train = df.drop(columns=['is_ultra'], axis=1) #features de treino\n",
    "target_train = df['is_ultra'] #target de treino\n",
    "features_valid = df_valid.drop(columns=['is_ultra'], axis=1) #features de validação\n",
    "target_valid = df_valid['is_ultra'] #target de validação\n",
    "features_test = df_test.drop(columns=['is_ultra'], axis=1) #features de teste\n",
    "target_test = df_test['is_ultra'] #target de teste\n"
   ]
  },
  {
   "cell_type": "markdown",
   "id": "42787930",
   "metadata": {},
   "source": [
    "<div style=\"background-color:#003366; color:#FFA500; padding: 15px; border-radius: 5px;\">\n",
    "Será realizada a análise de 03 modelos, sendo eles: Árvore de Decisão / Floresta Aleatória e Regressão Logística \n",
    "</div>"
   ]
  },
  {
   "cell_type": "markdown",
   "id": "2c89742d",
   "metadata": {},
   "source": [
    "Modelo 1: Árvore de Decisão"
   ]
  },
  {
   "cell_type": "code",
   "execution_count": 86,
   "id": "a7414186",
   "metadata": {},
   "outputs": [
    {
     "name": "stdout",
     "output_type": "stream",
     "text": [
      "Max Depth: 1, Accuracy: 0.7418\n",
      "Max Depth: 2, Accuracy: 0.7636\n",
      "Max Depth: 3, Accuracy: 0.7698\n",
      "Max Depth: 4, Accuracy: 0.7745\n",
      "Max Depth: 5, Accuracy: 0.7978\n",
      "Max Depth: 6, Accuracy: 0.8040\n",
      "Max Depth: 7, Accuracy: 0.8243\n",
      "Max Depth: 8, Accuracy: 0.8383\n",
      "Max Depth: 9, Accuracy: 0.8491\n",
      "Max Depth: 10, Accuracy: 0.8631\n",
      "\n",
      "Max Depth: 10, Accuracy: 0.8631\n"
     ]
    }
   ],
   "source": [
    "for depth in range(1, 11): #loop para testar diferentes profundidades da árvore\n",
    "    model = DecisionTreeClassifier(max_depth=depth, random_state=12345) #definição do modelo\n",
    "    model.fit(features_train, target_train)  #treinamento do modelo\n",
    "    predictions = model.predict(features_valid)   #predições com o modelo treinado\n",
    "    accuracy = accuracy_score(target_valid, predictions)   #cálculo da acurácia\n",
    "    print(f\"Max Depth: {depth}, Accuracy: {accuracy:.4f}\") #exibição da profundidade e acurácia\n",
    "print()\n",
    "print(f\"Max Depth: {depth}, Accuracy: {accuracy:.4f}\") #exibição da profundidade e acurácia"
   ]
  },
  {
   "cell_type": "markdown",
   "id": "1c60e862",
   "metadata": {},
   "source": [
    "Analisando o modelo árvore de decisão, na profundidade 2, alcançamos o mínimo solicitado de acurácia neste projeto (0.75), no entanto a melhor acurácia encontrada, foi na profundidade 10, com 0.8644"
   ]
  },
  {
   "cell_type": "markdown",
   "id": "13ec97d2",
   "metadata": {},
   "source": [
    "Modelo 2: Floresta Aleatória"
   ]
  },
  {
   "cell_type": "code",
   "execution_count": 87,
   "id": "0fbc70cc",
   "metadata": {},
   "outputs": [
    {
     "name": "stdout",
     "output_type": "stream",
     "text": [
      "O modelo tem 1 árvores e acurácia de 0.9129\n",
      "O modelo tem 2 árvores e acurácia de 0.9160\n",
      "O modelo tem 3 árvores e acurácia de 0.9565\n",
      "O modelo tem 3 árvores e acurácia de 0.9565\n",
      "O modelo tem 5 árvores e acurácia de 0.9689\n",
      "O modelo tem 5 árvores e acurácia de 0.9689\n",
      "O modelo tem 7 árvores e acurácia de 0.9782\n",
      "O modelo tem 7 árvores e acurácia de 0.9782\n",
      "O modelo tem 9 árvores e acurácia de 0.9844\n",
      "O modelo tem 9 árvores e acurácia de 0.9844\n",
      "\n",
      "O melhor modelo tem 9 árvores e acurácia de 0.9844\n"
     ]
    }
   ],
   "source": [
    "best_accuracy = 0\n",
    "best_est = 0\n",
    "for est in range(1, 11): #loop para testar diferentes números de estimadores\n",
    "    model = RandomForestClassifier(n_estimators=est, random_state=12345) #definição do modelo\n",
    "    model.fit(features_train, target_train)  #treinamento do modelo\n",
    "    predictions = model.predict(features_valid)   #predições com o modelo treinado\n",
    "    accuracy = accuracy_score(target_valid, predictions)   #cálculo da acurácia\n",
    "    if accuracy > best_accuracy:  #verificação da melhor acurácia e número de estimadores correspondente\n",
    "        best_accuracy = accuracy\n",
    "        best_est = est\n",
    "    print(f\"O modelo tem {best_est} árvores e acurácia de {best_accuracy:.4f}\")\n",
    "print()\n",
    "print(f\"O melhor modelo tem {best_est} árvores e acurácia de {best_accuracy:.4f}\")"
   ]
  },
  {
   "cell_type": "markdown",
   "id": "84ba8720",
   "metadata": {},
   "source": [
    "Neste modelo, floresta aleatória, com apenas 01 árvore ja encontramos uma boa acurácia de 0.9129, porém o melhor modelo encontrado foi com 9 árvores com uma acurácia de 0.9844"
   ]
  },
  {
   "cell_type": "markdown",
   "id": "3b50fdee",
   "metadata": {},
   "source": [
    "Modelo 3 : Regressão Logistica "
   ]
  },
  {
   "cell_type": "code",
   "execution_count": 88,
   "id": "a45fb00d",
   "metadata": {},
   "outputs": [
    {
     "name": "stdout",
     "output_type": "stream",
     "text": [
      "A acurácia da Regressão Logística é 0.7247\n"
     ]
    }
   ],
   "source": [
    "model = LogisticRegression(random_state=12345) # definição do modelo\n",
    "model.fit(features_train, target_train)  # treinamento do modelo\n",
    "predictions = model.predict(features_valid)  # predições\n",
    "accuracy = accuracy_score(target_valid, predictions)  # cálculo da acurácia\n",
    "\n",
    "print(f\"A acurácia da Regressão Logística é {accuracy:.4f}\") #exibição da acurácia"
   ]
  },
  {
   "cell_type": "markdown",
   "id": "e7e9d3f0",
   "metadata": {},
   "source": [
    "O modelo de Regressão Logística não atingiu o mínimo necessário solicitado no projeto (0.75), sendo 0.72 a acurácia encontrada."
   ]
  },
  {
   "cell_type": "markdown",
   "id": "b14f1493",
   "metadata": {},
   "source": [
    "<div style=\"background-color:#003366; color:#FFA500; padding: 15px; border-radius: 5px;\">\n",
    "Análise do conjunto de teste para o modelo escolhido\n",
    "</div>"
   ]
  },
  {
   "cell_type": "markdown",
   "id": "1e91fc3e",
   "metadata": {},
   "source": [
    "Analisando os resultados dos 03 modelos, podemos verificar que o melhor desempenho foi do modelo Floresta Aleatória, porém como o fator tempo também é um critério importante, para um grande volume de dados, irei analisar o conjunto de teste para os dois modelos : Árvore de Decisão e Floresta Aleatória respectivamente."
   ]
  },
  {
   "cell_type": "code",
   "execution_count": 89,
   "id": "59723084",
   "metadata": {},
   "outputs": [
    {
     "name": "stdout",
     "output_type": "stream",
     "text": [
      "O desempenho com o conjunto de teste foi:, 0.8678\n"
     ]
    }
   ],
   "source": [
    "model = DecisionTreeClassifier(max_depth=10, random_state=12345) #definição do modelo, usando a melhor profundidade encontrada\n",
    "model.fit(features_train, target_train)  #treinamento do modelo\n",
    "predictions = model.predict(features_test)   #predições com o modelo treinado\n",
    "accuracy = accuracy_score(target_test, predictions)   #cálculo da acurácia\n",
    "print(f\"O desempenho com o conjunto de teste foi:, {accuracy:.4f}\")"
   ]
  },
  {
   "cell_type": "markdown",
   "id": "93fc2b1f",
   "metadata": {},
   "source": [
    "O desempenho com o conjunto de teste, sendo o modelo Árevore de Decisão foi tão satisfatório o quanto encontrado com o conjunto de validação, tivemos \n",
    "0.8678 de acurácia."
   ]
  },
  {
   "cell_type": "code",
   "execution_count": 90,
   "id": "c25ad933",
   "metadata": {},
   "outputs": [
    {
     "name": "stdout",
     "output_type": "stream",
     "text": [
      "A acurácia do conjunto de teste é 0.9829\n"
     ]
    }
   ],
   "source": [
    "\n",
    "model = RandomForestClassifier(n_estimators=9, random_state=12345) #definição do modelo com o melhor número de estimadores\n",
    "model.fit(features_train, target_train)  #treinamento do modelo\n",
    "predictions = model.predict(features_test)   #predições com o modelo treinado - usando o conjunto de teste\n",
    "accuracy = accuracy_score(target_test, predictions)   #cálculo da acurácia do conjunto de teste\n",
    "    \n",
    "print(f\"A acurácia do conjunto de teste é {accuracy:.4f}\")"
   ]
  },
  {
   "cell_type": "markdown",
   "id": "93a55c8d",
   "metadata": {},
   "source": [
    "O desempenho com o conjunto de teste, sendo o modelo Floresta Aleatória  foi excelente, 0.9829"
   ]
  },
  {
   "cell_type": "markdown",
   "id": "238d8885",
   "metadata": {},
   "source": [
    "<div style=\"background-color:#003366; color:#FFA500; padding: 15px; border-radius: 5px;\">\n",
    "CONCLUSÕES\n",
    "</div>"
   ]
  },
  {
   "cell_type": "markdown",
   "id": "3cfca71b",
   "metadata": {},
   "source": [
    "Recomendação do Modelo\n",
    "\n",
    "Com base na análise do comportamento do cliente e na avaliação de modelos de machine learning, determinamos a melhor solução para o projeto de recomendação de planos. O objetivo foi alcançado, com um modelo que superou o requisito de acurácia de 0.75.\n",
    "\n",
    "A escolha do modelo ideal depende diretamente do ambiente em que ele será implementado:\n",
    "\n",
    "Para uso por Analistas (ambiente interno):\n",
    "Recomendamos o modelo Floresta Aleatória, que alcançou uma acurácia de 0.98 no conjunto de dados de teste. Sua performance superior na classificação dos clientes garante a melhor base de informação para que os analistas da empresa possam sugerir os planos mais adequados. A pequena diferença na velocidade de previsão não é um obstáculo para esta aplicação.\n",
    "\n",
    "Para uso direto pelo Cliente (plataforma online):\n",
    "Recomendamos o modelo Árvore de Decisão, que atingiu uma acurácia de 0.86 no conjunto de teste. Este modelo oferece um equilíbrio ideal entre performance e velocidade, garantindo uma experiência de usuário fluida e eficiente. Sua velocidade de previsão significativamente maior é crucial para evitar a perda de clientes em plataformas de acesso rápido.\n",
    "\n",
    "Em ambos os cenários, o modelo escolhido é robusto e está pronto para ser implementado, fornecendo à Megaline uma ferramenta poderosa para otimizar a migração de clientes para os novos planos Smart e Ultra."
   ]
  }
 ],
 "metadata": {
  "kernelspec": {
   "display_name": "Sprint08",
   "language": "python",
   "name": "python3"
  },
  "language_info": {
   "codemirror_mode": {
    "name": "ipython",
    "version": 3
   },
   "file_extension": ".py",
   "mimetype": "text/x-python",
   "name": "python",
   "nbconvert_exporter": "python",
   "pygments_lexer": "ipython3",
   "version": "3.12.3"
  }
 },
 "nbformat": 4,
 "nbformat_minor": 5
}
